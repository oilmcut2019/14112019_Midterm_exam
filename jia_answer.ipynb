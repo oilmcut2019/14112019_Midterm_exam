{
 "cells": [
  {
   "cell_type": "markdown",
   "metadata": {},
   "source": [
    "### Which of the following is an invalid statement?\n",
    "a) abc = 1,000,000<br>\n",
    "b) a b c = 1000 2000 3000<br>\n",
    "c) a,b,c = 1000, 2000, 3000<br>\n",
    "d) a_b_c = 1,000,000<br>"
   ]
  },
  {
   "cell_type": "code",
   "execution_count": 42,
   "metadata": {},
   "outputs": [],
   "source": [
    "a, b, c = 1000, 2000, 3000"
   ]
  },
  {
   "cell_type": "markdown",
   "metadata": {},
   "source": [
    "### The expression Int(x) implies that the variable x is converted to integer.\n",
    "a) True<br>\n",
    "b) False<br>"
   ]
  },
  {
   "cell_type": "code",
   "execution_count": null,
   "metadata": {},
   "outputs": [],
   "source": [
    "a"
   ]
  },
  {
   "cell_type": "markdown",
   "metadata": {},
   "source": [
    "### What data type is the object below?\n",
    "L = [1, 23, 'hello', 1]<br><br>\n",
    "a) list<br>\n",
    "b) dictionary<br>\n",
    "c) array<br>\n",
    "d) tuple<br>"
   ]
  },
  {
   "cell_type": "code",
   "execution_count": null,
   "metadata": {},
   "outputs": [],
   "source": [
    "a"
   ]
  },
  {
   "cell_type": "markdown",
   "metadata": {},
   "source": [
    "### What does 5 // 4 evaluate to?\n",
    "a) 625<br>\n",
    "b) 1.25<br>\n",
    "c) 1<br>\n",
    "d) 9<br>"
   ]
  },
  {
   "cell_type": "code",
   "execution_count": null,
   "metadata": {},
   "outputs": [],
   "source": [
    "c"
   ]
  },
  {
   "cell_type": "markdown",
   "metadata": {},
   "source": [
    "### What is the value of the following expression?\n",
    "\n",
    "float(22//3+3/3)<br><br>\n",
    "a) 8<br>\n",
    "b) 8.0<br>\n",
    "c) 8.3<br>\n",
    "d) 8.33<br>"
   ]
  },
  {
   "cell_type": "code",
   "execution_count": 2,
   "metadata": {},
   "outputs": [
    {
     "data": {
      "text/plain": [
       "8.0"
      ]
     },
     "execution_count": 2,
     "metadata": {},
     "output_type": "execute_result"
    }
   ],
   "source": [
    "float(22//3+3/3)"
   ]
  },
  {
   "cell_type": "markdown",
   "metadata": {},
   "source": [
    "### What will be the output of the following Python expression?\n",
    "\n",
    "24//6%3, 24//4//2<br><br>\n",
    "a) (1,3)<br>\n",
    "b) (0,3)<br>\n",
    "c) (1,0)<br>\n",
    "d) (3,1)<br>"
   ]
  },
  {
   "cell_type": "code",
   "execution_count": 3,
   "metadata": {},
   "outputs": [
    {
     "data": {
      "text/plain": [
       "(1, 3)"
      ]
     },
     "execution_count": 3,
     "metadata": {},
     "output_type": "execute_result"
    }
   ],
   "source": [
    "24//6%3, 24//4//2"
   ]
  },
  {
   "cell_type": "markdown",
   "metadata": {},
   "source": [
    "### Which of the following represents the bitwise XOR operator?\n",
    "a) &<br>\n",
    "b) ^<br>\n",
    "c) |<br>\n",
    "d) !<br>"
   ]
  },
  {
   "cell_type": "code",
   "execution_count": null,
   "metadata": {},
   "outputs": [],
   "source": [
    "b"
   ]
  },
  {
   "cell_type": "markdown",
   "metadata": {},
   "source": [
    "### Which of the following expressions can be used to multiply a given number ‘a’ by 4?\n",
    "a) a<<2<br>\n",
    "b) a<<4<br>\n",
    "c) a>>2<br>\n",
    "d) a>>4<br>"
   ]
  },
  {
   "cell_type": "code",
   "execution_count": null,
   "metadata": {},
   "outputs": [],
   "source": [
    "a"
   ]
  },
  {
   "cell_type": "markdown",
   "metadata": {},
   "source": [
    "### What will be the output of the following Python code snippet?\n",
    "not(10<20) and not(10>30)<br><br>\n",
    "a) True<br>\n",
    "b) False<br>\n",
    "c) Error<br>\n",
    "d) No output<br>"
   ]
  },
  {
   "cell_type": "code",
   "execution_count": 4,
   "metadata": {},
   "outputs": [
    {
     "data": {
      "text/plain": [
       "False"
      ]
     },
     "execution_count": 4,
     "metadata": {},
     "output_type": "execute_result"
    }
   ],
   "source": [
    "not(10<20) and not(10>30)"
   ]
  },
  {
   "cell_type": "markdown",
   "metadata": {},
   "source": [
    "### What will be the output of the following Python expression if X=345?\n",
    "\n",
    "print(“%06d”%X)<br><br>\n",
    "a) 345000<br>\n",
    "b) 000345<br>\n",
    "c) 000000345<br>\n",
    "d) 345000000<br>"
   ]
  },
  {
   "cell_type": "code",
   "execution_count": 8,
   "metadata": {},
   "outputs": [
    {
     "name": "stdout",
     "output_type": "stream",
     "text": [
      "000345\n"
     ]
    }
   ],
   "source": [
    "X=345\n",
    "print(\"%06d\"%X)"
   ]
  },
  {
   "cell_type": "code",
   "execution_count": null,
   "metadata": {},
   "outputs": [],
   "source": [
    "11. What will be the output of the following Python code?\n",
    "\n",
    "i = 5\n",
    "while True:\n",
    "    if i%0O11 == 0:\n",
    "        break\n",
    "    print(i)\n",
    "    i += 1\n",
    "    \n",
    "a) 5 6 7 8 9 10\n",
    "b) 5 6 7 8\n",
    "c) 5 6\n",
    "d) error"
   ]
  },
  {
   "cell_type": "code",
   "execution_count": 9,
   "metadata": {},
   "outputs": [
    {
     "name": "stdout",
     "output_type": "stream",
     "text": [
      "5\n",
      "6\n",
      "7\n",
      "8\n"
     ]
    }
   ],
   "source": [
    "i = 5\n",
    "while True:\n",
    "    if i%0O11 == 0:\n",
    "        break\n",
    "    print(i)\n",
    "    i += 1"
   ]
  },
  {
   "cell_type": "code",
   "execution_count": null,
   "metadata": {},
   "outputs": [],
   "source": [
    "12. What will be the output of the following Python code?\n",
    "\n",
    "i = 0\n",
    "while i < 5:\n",
    "    print(i)\n",
    "    i += 1\n",
    "    if i == 3:\n",
    "        break\n",
    "else:\n",
    "    print(0)\n",
    "    \n",
    "a) 0 1 2 0\n",
    "b) 0 1 2\n",
    "c) error\n",
    "d) none of the mentioned"
   ]
  },
  {
   "cell_type": "code",
   "execution_count": 10,
   "metadata": {},
   "outputs": [
    {
     "name": "stdout",
     "output_type": "stream",
     "text": [
      "0\n",
      "1\n",
      "2\n"
     ]
    }
   ],
   "source": [
    "i = 0\n",
    "while i < 5:\n",
    "    print(i)\n",
    "    i += 1\n",
    "    if i == 3:\n",
    "        break\n",
    "else:\n",
    "    print(0)"
   ]
  },
  {
   "cell_type": "code",
   "execution_count": null,
   "metadata": {},
   "outputs": [],
   "source": [
    "13. What will be the output of the following Python code?\n",
    "\n",
    "x = 'abcd'\n",
    "for i in range(x):\n",
    "    print(i)\n",
    "    \n",
    "a) a b c d\n",
    "b) 0 1 2 3\n",
    "c) error\n",
    "d) none of the mentioned"
   ]
  },
  {
   "cell_type": "code",
   "execution_count": 11,
   "metadata": {},
   "outputs": [
    {
     "ename": "TypeError",
     "evalue": "'str' object cannot be interpreted as an integer",
     "output_type": "error",
     "traceback": [
      "\u001b[1;31m---------------------------------------------------------------------------\u001b[0m",
      "\u001b[1;31mTypeError\u001b[0m                                 Traceback (most recent call last)",
      "\u001b[1;32m<ipython-input-11-1ca036a61ecc>\u001b[0m in \u001b[0;36m<module>\u001b[1;34m\u001b[0m\n\u001b[0;32m      1\u001b[0m \u001b[0mx\u001b[0m \u001b[1;33m=\u001b[0m \u001b[1;34m'abcd'\u001b[0m\u001b[1;33m\u001b[0m\u001b[1;33m\u001b[0m\u001b[0m\n\u001b[1;32m----> 2\u001b[1;33m \u001b[1;32mfor\u001b[0m \u001b[0mi\u001b[0m \u001b[1;32min\u001b[0m \u001b[0mrange\u001b[0m\u001b[1;33m(\u001b[0m\u001b[0mx\u001b[0m\u001b[1;33m)\u001b[0m\u001b[1;33m:\u001b[0m\u001b[1;33m\u001b[0m\u001b[1;33m\u001b[0m\u001b[0m\n\u001b[0m\u001b[0;32m      3\u001b[0m     \u001b[0mprint\u001b[0m\u001b[1;33m(\u001b[0m\u001b[0mi\u001b[0m\u001b[1;33m)\u001b[0m\u001b[1;33m\u001b[0m\u001b[1;33m\u001b[0m\u001b[0m\n",
      "\u001b[1;31mTypeError\u001b[0m: 'str' object cannot be interpreted as an integer"
     ]
    }
   ],
   "source": [
    "x = 'abcd'\n",
    "for i in range(x):\n",
    "    print(i)"
   ]
  },
  {
   "cell_type": "code",
   "execution_count": null,
   "metadata": {},
   "outputs": [],
   "source": [
    "14. What will be the output of the following Python code?\n",
    "\n",
    "d = {0: 'a', 1: 'b', 2: 'c'}\n",
    "for i in d:\n",
    "    print(i)\n",
    "    \n",
    "a) 0 1 2\n",
    "b) a b c\n",
    "c) 0 a 1 b 2 c\n",
    "d) none of the mentioned"
   ]
  },
  {
   "cell_type": "code",
   "execution_count": 12,
   "metadata": {},
   "outputs": [
    {
     "name": "stdout",
     "output_type": "stream",
     "text": [
      "0\n",
      "1\n",
      "2\n"
     ]
    }
   ],
   "source": [
    "d = {0: 'a', 1: 'b', 2: 'c'}\n",
    "for i in d:\n",
    "    print(i)"
   ]
  },
  {
   "cell_type": "code",
   "execution_count": null,
   "metadata": {},
   "outputs": [],
   "source": [
    "15.What will be the output of the following Python code snippet?\n",
    "\n",
    "x = 2\n",
    "for i in range(x):\n",
    "    x += 1\n",
    "    print (x)\n",
    "    \n",
    "a) 0 1 2 3 4 …\n",
    "b) 0 1\n",
    "c) 3 4\n",
    "d) 0 1 2 3 "
   ]
  },
  {
   "cell_type": "code",
   "execution_count": 13,
   "metadata": {},
   "outputs": [
    {
     "name": "stdout",
     "output_type": "stream",
     "text": [
      "3\n",
      "4\n"
     ]
    }
   ],
   "source": [
    "x = 2\n",
    "for i in range(x):\n",
    "    x += 1\n",
    "    print (x)"
   ]
  },
  {
   "cell_type": "code",
   "execution_count": null,
   "metadata": {},
   "outputs": [],
   "source": [
    "16. What will be the output of the following Python code?\n",
    "\n",
    "for i in range(5):\n",
    "    if i == 5:\n",
    "        break\n",
    "    else:\n",
    "        print(i)\n",
    "else:\n",
    "    print(\"Here\")\n",
    "    \n",
    "a) 0 1 2 3 4 Here\n",
    "b) 0 1 2 3 4 5 Here\n",
    "c) 0 1 2 3 4\n",
    "d) 1 2 3 4 5"
   ]
  },
  {
   "cell_type": "code",
   "execution_count": 15,
   "metadata": {},
   "outputs": [
    {
     "name": "stdout",
     "output_type": "stream",
     "text": [
      "0\n",
      "1\n",
      "2\n",
      "3\n",
      "4\n",
      "Here\n"
     ]
    }
   ],
   "source": [
    "for i in range(5):\n",
    "    if i == 5:\n",
    "        break\n",
    "    else:\n",
    "        print(i)\n",
    "else:\n",
    "    print(\"Here\")\n",
    "    \n"
   ]
  },
  {
   "cell_type": "markdown",
   "metadata": {},
   "source": [
    "17.What will be the output of the following Python statement?<br>\n",
    "\n",
    "\"abcd\"[2:]<br><br>\n",
    "a) a<br>\n",
    "b) ab<br>\n",
    "c) cd<br>\n",
    "d) dc"
   ]
  },
  {
   "cell_type": "code",
   "execution_count": 17,
   "metadata": {},
   "outputs": [
    {
     "data": {
      "text/plain": [
       "'cd'"
      ]
     },
     "execution_count": 17,
     "metadata": {},
     "output_type": "execute_result"
    }
   ],
   "source": [
    "\"abcd\"[2:]"
   ]
  },
  {
   "cell_type": "code",
   "execution_count": null,
   "metadata": {},
   "outputs": [],
   "source": [
    "18.Say s=”hello” what will be the return value of type(s)?\n",
    "a) int\n",
    "b) bool\n",
    "c) str\n",
    "d) String "
   ]
  },
  {
   "cell_type": "code",
   "execution_count": null,
   "metadata": {},
   "outputs": [],
   "source": [
    "c"
   ]
  },
  {
   "cell_type": "code",
   "execution_count": null,
   "metadata": {},
   "outputs": [],
   "source": [
    "19.What will be the output of the following Python code?\n",
    "\n",
    "print(\"xyyzxyzxzxyy\".count('yy'))\n",
    "\n",
    "a) 2\n",
    "b) 0\n",
    "c) error\n",
    "d) none of the mentioned"
   ]
  },
  {
   "cell_type": "code",
   "execution_count": 18,
   "metadata": {},
   "outputs": [
    {
     "name": "stdout",
     "output_type": "stream",
     "text": [
      "2\n"
     ]
    }
   ],
   "source": [
    "print(\"xyyzxyzxzxyy\".count('yy'))"
   ]
  },
  {
   "cell_type": "code",
   "execution_count": null,
   "metadata": {},
   "outputs": [],
   "source": [
    "20.What will be the output of the following Python code?\n",
    "\n",
    "print(\"Hello {0} and {1}\".format('foo', 'bin'))\n",
    "a) Hello foo and bin\n",
    "b) Hello {0} and {1} foo bin\n",
    "c) Error\n",
    "d) Hello 0 and 1"
   ]
  },
  {
   "cell_type": "code",
   "execution_count": 1,
   "metadata": {},
   "outputs": [
    {
     "name": "stdout",
     "output_type": "stream",
     "text": [
      "Hello foo and bin\n"
     ]
    }
   ],
   "source": [
    "print(\"Hello {0} and {1}\".format('foo', 'bin'))"
   ]
  },
  {
   "cell_type": "code",
   "execution_count": null,
   "metadata": {},
   "outputs": [],
   "source": [
    "21.What will be the output of the following Python code snippet?\n",
    "\n",
    "print('The sum of {0} and {1} is {2}'.format(2, 10, 12))\n",
    "\n",
    "a) The sum of 2 and 10 is 12\n",
    "b) Error\n",
    "c) The sum of 0 and 1 is 2\n",
    "d) None of the mentioned"
   ]
  },
  {
   "cell_type": "code",
   "execution_count": 19,
   "metadata": {},
   "outputs": [
    {
     "name": "stdout",
     "output_type": "stream",
     "text": [
      "The sum of 2 and 10 is 12\n"
     ]
    }
   ],
   "source": [
    "print('The sum of {0} and {1} is {2}'.format(2, 10, 12))"
   ]
  },
  {
   "cell_type": "code",
   "execution_count": null,
   "metadata": {},
   "outputs": [],
   "source": [
    "22.What will be the output of the following Python code snippet?\n",
    "\n",
    "print('abef'.replace('cd', '12'))\n",
    "a) abef\n",
    "b) 12\n",
    "c) error\n",
    "d) none of the mentioned"
   ]
  },
  {
   "cell_type": "code",
   "execution_count": 20,
   "metadata": {},
   "outputs": [
    {
     "name": "stdout",
     "output_type": "stream",
     "text": [
      "abef\n"
     ]
    }
   ],
   "source": [
    "print('abef'.replace('cd', '12'))"
   ]
  },
  {
   "cell_type": "code",
   "execution_count": null,
   "metadata": {},
   "outputs": [],
   "source": [
    "23.What will be the output of the following Python code snippet?\n",
    "\n",
    "print('ab cd ef'.title())\n",
    "a) Ab cd ef\n",
    "b) Ab cd eF\n",
    "c) Ab Cd Ef\n",
    "d) None of the mentioned"
   ]
  },
  {
   "cell_type": "code",
   "execution_count": 2,
   "metadata": {},
   "outputs": [
    {
     "name": "stdout",
     "output_type": "stream",
     "text": [
      "Ab Cd Ef\n"
     ]
    }
   ],
   "source": [
    "print('ab cd ef'.title())"
   ]
  },
  {
   "cell_type": "code",
   "execution_count": null,
   "metadata": {},
   "outputs": [],
   "source": [
    "24.Suppose list1 is [1, 5, 9], what is sum(list1)?\n",
    "a) 1\n",
    "b) 9\n",
    "c) 15\n",
    "d) Error"
   ]
  },
  {
   "cell_type": "code",
   "execution_count": 21,
   "metadata": {},
   "outputs": [
    {
     "data": {
      "text/plain": [
       "15"
      ]
     },
     "execution_count": 21,
     "metadata": {},
     "output_type": "execute_result"
    }
   ],
   "source": [
    "list1 = [1, 5, 9]\n",
    "sum(list1)"
   ]
  },
  {
   "cell_type": "code",
   "execution_count": null,
   "metadata": {},
   "outputs": [],
   "source": [
    "25.What will be the output of the following Python code?\n",
    "\n",
    "names = ['Amir', 'Bear', 'Charlton', 'Daman']\n",
    "print(names[-1][-1])\n",
    "\n",
    "a) A\n",
    "b) Daman\n",
    "c) Error\n",
    "d) n"
   ]
  },
  {
   "cell_type": "code",
   "execution_count": 22,
   "metadata": {},
   "outputs": [
    {
     "name": "stdout",
     "output_type": "stream",
     "text": [
      "n\n"
     ]
    }
   ],
   "source": [
    "names = ['Amir', 'Bear', 'Charlton', 'Daman']\n",
    "print(names[-1][-1])"
   ]
  },
  {
   "cell_type": "code",
   "execution_count": null,
   "metadata": {},
   "outputs": [],
   "source": [
    "26.Suppose listExample is [3, 4, 5, 20, 5, 25, 1, 3], what is list1 after listExample.pop()?\n",
    "a) [3, 4, 5, 20, 5, 25, 1]\n",
    "b) [1, 3, 3, 4, 5, 5, 20, 25]\n",
    "c) [3, 5, 20, 5, 25, 1, 3]\n",
    "d) [1, 3, 4, 5, 20, 5, 25]"
   ]
  },
  {
   "cell_type": "code",
   "execution_count": 25,
   "metadata": {},
   "outputs": [
    {
     "data": {
      "text/plain": [
       "[3, 4, 5, 20, 5, 25, 1]"
      ]
     },
     "execution_count": 25,
     "metadata": {},
     "output_type": "execute_result"
    }
   ],
   "source": [
    "listExample = [3, 4, 5, 20, 5, 25, 1, 3]\n",
    "listExample.pop()\n",
    "listExample"
   ]
  },
  {
   "cell_type": "code",
   "execution_count": null,
   "metadata": {},
   "outputs": [],
   "source": [
    "27.What will be the output of the following Python code?\n",
    "\n",
    "list1 = [1, 2, 3, 4]\n",
    "list2 = [5, 6, 7, 8]\n",
    "print(len(list1 + list2))\n",
    "\n",
    "a) 2\n",
    "b) 4\n",
    "c) 5\n",
    "d) 8"
   ]
  },
  {
   "cell_type": "code",
   "execution_count": 23,
   "metadata": {},
   "outputs": [
    {
     "name": "stdout",
     "output_type": "stream",
     "text": [
      "8\n"
     ]
    }
   ],
   "source": [
    "list1 = [1, 2, 3, 4]\n",
    "list2 = [5, 6, 7, 8]\n",
    "print(len(list1 + list2))"
   ]
  },
  {
   "cell_type": "code",
   "execution_count": null,
   "metadata": {},
   "outputs": [],
   "source": [
    "28.What will be the output of the following Python code?\n",
    "\n",
    "matrix = [[1, 2, 3, 4],\n",
    "       [4, 5, 6, 7],\n",
    "       [8, 9, 10, 11],\n",
    "       [12, 13, 14, 15]]\n",
    " \n",
    "for i in range(0, 4):\n",
    "    print(matrix[i][1], end = \" \")\n",
    "\n",
    "a) 1 2 3 4\n",
    "b) 4 5 6 7\n",
    "c) 1 3 8 12\n",
    "d) 2 5 9 13"
   ]
  },
  {
   "cell_type": "code",
   "execution_count": 26,
   "metadata": {},
   "outputs": [
    {
     "name": "stdout",
     "output_type": "stream",
     "text": [
      "2 5 9 13 "
     ]
    }
   ],
   "source": [
    "matrix = [[1, 2, 3, 4],\n",
    "       [4, 5, 6, 7],\n",
    "       [8, 9, 10, 11],\n",
    "       [12, 13, 14, 15]]\n",
    " \n",
    "for i in range(0, 4):\n",
    "    print(matrix[i][1], end = \" \")"
   ]
  },
  {
   "cell_type": "code",
   "execution_count": null,
   "metadata": {},
   "outputs": [],
   "source": [
    "29.What will be the output of the following Python code?\n",
    "\n",
    "import copy\n",
    "a=[10,23,56,[78]]\n",
    "b=copy.deepcopy(a)\n",
    "a[3][0]=95\n",
    "a[1]=34\n",
    "print(b)\n",
    "\n",
    "a) [10,34,56,[95]]\n",
    "b) [10,23,56,[78]]\n",
    "c) [10,23,56,[95]]\n",
    "d) [10,34,56,[78]]"
   ]
  },
  {
   "cell_type": "code",
   "execution_count": 28,
   "metadata": {},
   "outputs": [
    {
     "name": "stdout",
     "output_type": "stream",
     "text": [
      "[10, 23, 56, [78]]\n"
     ]
    }
   ],
   "source": [
    "import copy\n",
    "a=[10,23,56,[78]]\n",
    "b=copy.deepcopy(a)\n",
    "a[3][0]=95\n",
    "a[1]=34\n",
    "print(b)\n"
   ]
  },
  {
   "cell_type": "code",
   "execution_count": null,
   "metadata": {},
   "outputs": [],
   "source": [
    "30.What will be the output of the following Python code?\n",
    "\n",
    "a=[14,52,7]\n",
    "b=a.copy()\n",
    "b is a\n",
    "\n",
    "a) True\n",
    "b) False\n",
    "    "
   ]
  },
  {
   "cell_type": "code",
   "execution_count": 29,
   "metadata": {},
   "outputs": [
    {
     "data": {
      "text/plain": [
       "False"
      ]
     },
     "execution_count": 29,
     "metadata": {},
     "output_type": "execute_result"
    }
   ],
   "source": [
    "a=[14,52,7]\n",
    "b=a.copy()\n",
    "b is a"
   ]
  },
  {
   "cell_type": "code",
   "execution_count": null,
   "metadata": {},
   "outputs": [],
   "source": [
    "31.What will be the output of the following Python code?\n",
    "\n",
    "l=[[1, 2, 3], [4, 5, 6]]\n",
    "for i in range(len(l)):\n",
    "    for j in range(len(l[i])):\n",
    "        l[i][j]+=10\n",
    "l\n",
    "\n",
    "a) No output\n",
    "b) Error\n",
    "c) [[1, 2, 3], [4, 5, 6]]\n",
    "d) [[11, 12, 13], [14, 15, 16]]"
   ]
  },
  {
   "cell_type": "code",
   "execution_count": 30,
   "metadata": {},
   "outputs": [
    {
     "data": {
      "text/plain": [
       "[[11, 12, 13], [14, 15, 16]]"
      ]
     },
     "execution_count": 30,
     "metadata": {},
     "output_type": "execute_result"
    }
   ],
   "source": [
    "l=[[1, 2, 3], [4, 5, 6]]\n",
    "for i in range(len(l)):\n",
    "    for j in range(len(l[i])):\n",
    "        l[i][j]+=10\n",
    "l"
   ]
  },
  {
   "cell_type": "code",
   "execution_count": null,
   "metadata": {},
   "outputs": [],
   "source": [
    "32.What will be the output of the following Python code?\n",
    "\n",
    "t = (1, 2)\n",
    "2 * t\n",
    "\n",
    "a) (1, 2, 1, 2)\n",
    "b) [1, 2, 1, 2]\n",
    "c) (1, 1, 2, 2)\n",
    "d) [1, 1, 2, 2]"
   ]
  },
  {
   "cell_type": "code",
   "execution_count": 31,
   "metadata": {},
   "outputs": [
    {
     "data": {
      "text/plain": [
       "(1, 2, 1, 2)"
      ]
     },
     "execution_count": 31,
     "metadata": {},
     "output_type": "execute_result"
    }
   ],
   "source": [
    "t = (1, 2)\n",
    "2 * t"
   ]
  },
  {
   "cell_type": "code",
   "execution_count": null,
   "metadata": {},
   "outputs": [],
   "source": [
    "33.What will be the output of the following Python code?\n",
    "\n",
    "a=(2,3,4)\n",
    "sum(a,3)\n",
    "\n",
    "a) Too many arguments for sum() method\n",
    "b) The method sum() doesn’t exist for tuples\n",
    "c) 12\n",
    "d) 9"
   ]
  },
  {
   "cell_type": "code",
   "execution_count": 32,
   "metadata": {},
   "outputs": [
    {
     "data": {
      "text/plain": [
       "12"
      ]
     },
     "execution_count": 32,
     "metadata": {},
     "output_type": "execute_result"
    }
   ],
   "source": [
    "a=(2,3,4)\n",
    "sum(a,3)"
   ]
  },
  {
   "cell_type": "code",
   "execution_count": null,
   "metadata": {},
   "outputs": [],
   "source": [
    "34.What will be the output of the following Python code?\n",
    "\n",
    "a=(1,2)\n",
    "b=(3,4)\n",
    "c=a+b\n",
    "c\n",
    "\n",
    "a) (4,6)\n",
    "b) (1,2,3,4)\n",
    "c) Error as tuples are immutable\n",
    "d) None"
   ]
  },
  {
   "cell_type": "code",
   "execution_count": 33,
   "metadata": {},
   "outputs": [
    {
     "data": {
      "text/plain": [
       "(1, 2, 3, 4)"
      ]
     },
     "execution_count": 33,
     "metadata": {},
     "output_type": "execute_result"
    }
   ],
   "source": [
    "a=(1,2)\n",
    "b=(3,4)\n",
    "c=a+b\n",
    "c"
   ]
  },
  {
   "cell_type": "code",
   "execution_count": null,
   "metadata": {},
   "outputs": [],
   "source": [
    "35.What will be the output of the following Python code?\n",
    "\n",
    "a={4,5,6}\n",
    "b={2,8,6}\n",
    "a+b\n",
    "\n",
    "a) {4,5,6,2,8}\n",
    "b) {4,5,6,2,8,6}\n",
    "c) Error as unsupported operand type for sets\n",
    "d) Error as the duplicate item 6 is present in both sets"
   ]
  },
  {
   "cell_type": "code",
   "execution_count": 35,
   "metadata": {
    "scrolled": true
   },
   "outputs": [
    {
     "ename": "TypeError",
     "evalue": "unsupported operand type(s) for +: 'set' and 'set'",
     "output_type": "error",
     "traceback": [
      "\u001b[1;31m---------------------------------------------------------------------------\u001b[0m",
      "\u001b[1;31mTypeError\u001b[0m                                 Traceback (most recent call last)",
      "\u001b[1;32m<ipython-input-35-bf3d2d592f17>\u001b[0m in \u001b[0;36m<module>\u001b[1;34m\u001b[0m\n\u001b[0;32m      1\u001b[0m \u001b[0ma\u001b[0m\u001b[1;33m=\u001b[0m\u001b[1;33m{\u001b[0m\u001b[1;36m4\u001b[0m\u001b[1;33m,\u001b[0m\u001b[1;36m5\u001b[0m\u001b[1;33m,\u001b[0m\u001b[1;36m6\u001b[0m\u001b[1;33m}\u001b[0m\u001b[1;33m\u001b[0m\u001b[1;33m\u001b[0m\u001b[0m\n\u001b[0;32m      2\u001b[0m \u001b[0mb\u001b[0m\u001b[1;33m=\u001b[0m\u001b[1;33m{\u001b[0m\u001b[1;36m2\u001b[0m\u001b[1;33m,\u001b[0m\u001b[1;36m8\u001b[0m\u001b[1;33m}\u001b[0m\u001b[1;33m\u001b[0m\u001b[1;33m\u001b[0m\u001b[0m\n\u001b[1;32m----> 3\u001b[1;33m \u001b[0ma\u001b[0m\u001b[1;33m+\u001b[0m\u001b[0mb\u001b[0m\u001b[1;33m\u001b[0m\u001b[1;33m\u001b[0m\u001b[0m\n\u001b[0m",
      "\u001b[1;31mTypeError\u001b[0m: unsupported operand type(s) for +: 'set' and 'set'"
     ]
    }
   ],
   "source": [
    "a={4,5,6}\n",
    "b={2,8,6}\n",
    "a+b"
   ]
  },
  {
   "cell_type": "code",
   "execution_count": null,
   "metadata": {},
   "outputs": [],
   "source": [
    "36. What will be the output of the following Python code?\n",
    "\n",
    "a={1,2,3}\n",
    "b=a.copy()\n",
    "b.add(4)\n",
    "a\n",
    "\n",
    "a) {1,2,3}\n",
    "b) Error, invalid syntax for add\n",
    "c) {1,2,3,4}\n",
    "d) Error, copying of sets isn’t allowed"
   ]
  },
  {
   "cell_type": "code",
   "execution_count": 36,
   "metadata": {},
   "outputs": [
    {
     "data": {
      "text/plain": [
       "{1, 2, 3}"
      ]
     },
     "execution_count": 36,
     "metadata": {},
     "output_type": "execute_result"
    }
   ],
   "source": [
    "a={1,2,3}\n",
    "b=a.copy()\n",
    "b.add(4)\n",
    "a"
   ]
  },
  {
   "cell_type": "code",
   "execution_count": null,
   "metadata": {},
   "outputs": [],
   "source": [
    "37.What will be the output of the following Python code snippet?\n",
    "\n",
    "d = {\"john\":40, \"peter\":45}\n",
    "d[\"john\"]\n",
    "a) 40\n",
    "b) 45\n",
    "c) 'john'\n",
    "d) 'peter'"
   ]
  },
  {
   "cell_type": "code",
   "execution_count": 37,
   "metadata": {},
   "outputs": [
    {
     "data": {
      "text/plain": [
       "40"
      ]
     },
     "execution_count": 37,
     "metadata": {},
     "output_type": "execute_result"
    }
   ],
   "source": [
    "d = {\"john\":40, \"peter\":45}\n",
    "d[\"john\"]"
   ]
  },
  {
   "cell_type": "code",
   "execution_count": null,
   "metadata": {},
   "outputs": [],
   "source": [
    "38.What will be the output of the following Python code?\n",
    "\n",
    "a={1:5,2:3,3:4}\n",
    "a.pop(3)\n",
    "print(a)\n",
    "\n",
    "a) {1: 5}\n",
    "b) {1: 5, 2: 3}\n",
    "c) Error, syntax error for pop() method\n",
    "d) {1: 5, 3: 4}"
   ]
  },
  {
   "cell_type": "code",
   "execution_count": 38,
   "metadata": {},
   "outputs": [
    {
     "name": "stdout",
     "output_type": "stream",
     "text": [
      "{1: 5, 2: 3}\n"
     ]
    }
   ],
   "source": [
    "a={1:5,2:3,3:4}\n",
    "a.pop(3)\n",
    "print(a)"
   ]
  },
  {
   "cell_type": "code",
   "execution_count": null,
   "metadata": {},
   "outputs": [],
   "source": [
    "39.What will be the output of the following Python code snippet?\n",
    "\n",
    "test = {1:'A', 2:'B', 3:'C'}\n",
    "test = {}\n",
    "print(len(test))\n",
    "\n",
    "a) 0\n",
    "b) None\n",
    "c) 3\n",
    "d) An exception is thrown"
   ]
  },
  {
   "cell_type": "code",
   "execution_count": 39,
   "metadata": {},
   "outputs": [
    {
     "name": "stdout",
     "output_type": "stream",
     "text": [
      "0\n"
     ]
    }
   ],
   "source": [
    "test = {1:'A', 2:'B', 3:'C'}\n",
    "test = {}\n",
    "print(len(test))"
   ]
  },
  {
   "cell_type": "code",
   "execution_count": null,
   "metadata": {},
   "outputs": [],
   "source": [
    "40.What will be the output of the following Python code snippet?\n",
    "\n",
    "z=set('abc')\n",
    "z.add('san')\n",
    "z.update(set(['p', 'q']))\n",
    "z\n",
    "\n",
    "a) {‘abc’, ‘p’, ‘q’, ‘san’}\n",
    "b) {‘a’, ‘b’, ‘c’, [‘p’, ‘q’], ‘san}\n",
    "c) {‘a’, ‘c’, ‘c’, ‘p’, ‘q’, ‘s’, ‘a’, ‘n’}\n",
    "d) {‘a’, ‘b’, ‘c’, ‘p’, ‘q’, ‘san’}"
   ]
  },
  {
   "cell_type": "code",
   "execution_count": 40,
   "metadata": {},
   "outputs": [
    {
     "data": {
      "text/plain": [
       "{'a', 'b', 'c', 'p', 'q', 'san'}"
      ]
     },
     "execution_count": 40,
     "metadata": {},
     "output_type": "execute_result"
    }
   ],
   "source": [
    "z=set('abc')\n",
    "z.add('san')\n",
    "z.update(set(['p', 'q']))\n",
    "z"
   ]
  },
  {
   "cell_type": "code",
   "execution_count": null,
   "metadata": {},
   "outputs": [],
   "source": []
  },
  {
   "cell_type": "code",
   "execution_count": null,
   "metadata": {},
   "outputs": [],
   "source": []
  },
  {
   "cell_type": "code",
   "execution_count": null,
   "metadata": {},
   "outputs": [],
   "source": []
  },
  {
   "cell_type": "code",
   "execution_count": null,
   "metadata": {},
   "outputs": [],
   "source": []
  }
 ],
 "metadata": {
  "kernelspec": {
   "display_name": "Python 3",
   "language": "python",
   "name": "python3"
  },
  "language_info": {
   "codemirror_mode": {
    "name": "ipython",
    "version": 3
   },
   "file_extension": ".py",
   "mimetype": "text/x-python",
   "name": "python",
   "nbconvert_exporter": "python",
   "pygments_lexer": "ipython3",
   "version": "3.7.3"
  },
  "nbTranslate": {
   "displayLangs": [
    "*"
   ],
   "hotkey": "alt-t",
   "langInMainMenu": true,
   "sourceLang": "en",
   "targetLang": "fr",
   "useGoogleTranslate": true
  },
  "toc": {
   "base_numbering": 1,
   "nav_menu": {},
   "number_sections": true,
   "sideBar": true,
   "skip_h1_title": false,
   "title_cell": "Table of Contents",
   "title_sidebar": "Contents",
   "toc_cell": false,
   "toc_position": {},
   "toc_section_display": true,
   "toc_window_display": true
  },
  "varInspector": {
   "cols": {
    "lenName": 16,
    "lenType": 16,
    "lenVar": 40
   },
   "kernels_config": {
    "python": {
     "delete_cmd_postfix": "",
     "delete_cmd_prefix": "del ",
     "library": "var_list.py",
     "varRefreshCmd": "print(var_dic_list())"
    },
    "r": {
     "delete_cmd_postfix": ") ",
     "delete_cmd_prefix": "rm(",
     "library": "var_list.r",
     "varRefreshCmd": "cat(var_dic_list()) "
    }
   },
   "types_to_exclude": [
    "module",
    "function",
    "builtin_function_or_method",
    "instance",
    "_Feature"
   ],
   "window_display": false
  }
 },
 "nbformat": 4,
 "nbformat_minor": 2
}
