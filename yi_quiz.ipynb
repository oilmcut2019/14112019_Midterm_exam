{
 "cells": [
  {
   "cell_type": "markdown",
   "metadata": {},
   "source": [
    "### What is the maximum possible length of an identifier?\n",
    "a) 31 characters<br>\n",
    "b) 63 characters<br>\n",
    "c) 79 characters<br>\n",
    "d) none of the mentioned<br>"
   ]
  },
  {
   "cell_type": "markdown",
   "metadata": {},
   "source": [
    "### What is the answer to this expression, 22 % 3 is?\n",
    "a) 7<br>\n",
    "b) 1<br>\n",
    "c) 0<br>\n",
    "d) 5<br>"
   ]
  },
  {
   "cell_type": "markdown",
   "metadata": {
    "ExecuteTime": {
     "end_time": "2019-11-13T10:36:14.410717Z",
     "start_time": "2019-11-13T10:36:14.404711Z"
    }
   },
   "source": [
    "### Which of these in not a core data type?\n",
    "a) Lists<br>\n",
    "b) Dictionary<br>\n",
    "c) Tuples<br>\n",
    "d) Class<br>"
   ]
  },
  {
   "cell_type": "markdown",
   "metadata": {
    "ExecuteTime": {
     "end_time": "2019-11-13T10:36:14.410717Z",
     "start_time": "2019-11-13T10:36:14.404711Z"
    }
   },
   "source": [
    "### What does 3 ^ 4 evaluate to?\n",
    "a) 81<br>\n",
    "b) 12<br>\n",
    "c) 0.75<br>\n",
    "d) 7<br>"
   ]
  },
  {
   "cell_type": "markdown",
   "metadata": {
    "ExecuteTime": {
     "end_time": "2019-11-13T10:36:14.410717Z",
     "start_time": "2019-11-13T10:36:14.404711Z"
    }
   },
   "source": [
    "### What is the value of the following expression?\n",
    "\n",
    "8/4/2, 8/(4/2)<br><br>\n",
    "a) (1.0, 4.0)<br>\n",
    "b) (1.0, 1.0)<br>\n",
    "c) (4.0. 1.0)<br>\n",
    "d) (4.0, 4.0)<br>"
   ]
  },
  {
   "cell_type": "markdown",
   "metadata": {
    "ExecuteTime": {
     "end_time": "2019-11-13T10:36:14.410717Z",
     "start_time": "2019-11-13T10:36:14.404711Z"
    }
   },
   "source": [
    "### What will be the output of the following Python expression?\n",
    "\n",
    "print(4.00/(2.0+2.0))<br><br>\n",
    "a) Error<br>\n",
    "b) 1.0<br>\n",
    "c) 1.00<br>\n",
    "d) 1<br>"
   ]
  },
  {
   "cell_type": "markdown",
   "metadata": {
    "ExecuteTime": {
     "end_time": "2019-11-13T10:36:14.410717Z",
     "start_time": "2019-11-13T10:36:14.404711Z"
    }
   },
   "source": [
    "### What will be the value of x in the following Python expression?\n",
    "\n",
    "x>>2=2<br><br>\n",
    "a) 8<br>\n",
    "b) 4<br>\n",
    "c) 2<br>\n",
    "d) 1<br>"
   ]
  },
  {
   "cell_type": "markdown",
   "metadata": {
    "ExecuteTime": {
     "end_time": "2019-11-13T10:36:14.410717Z",
     "start_time": "2019-11-13T10:36:14.404711Z"
    }
   },
   "source": [
    "### What will be the output of the following Python expression?\n",
    "\n",
    "4^12<br><br>\n",
    "a) 2<br>\n",
    "b) 4<br>\n",
    "c) 8<br>\n",
    "d) 12<br>"
   ]
  },
  {
   "cell_type": "markdown",
   "metadata": {
    "ExecuteTime": {
     "end_time": "2019-11-13T10:36:14.410717Z",
     "start_time": "2019-11-13T10:36:14.404711Z"
    }
   },
   "source": [
    "### What will be the output of the following Python code snippet?\n",
    "not(3>4)<br>\n",
    "not(1&1)<br><br>\n",
    "a) True<br>\n",
    "   True<br><br>\n",
    "b) True<br>\n",
    "   False<br><br>\n",
    "c) False<br>\n",
    "   True<br><br>\n",
    "d) False<br>\n",
    "   False<br><br>"
   ]
  },
  {
   "cell_type": "markdown",
   "metadata": {
    "ExecuteTime": {
     "end_time": "2019-11-13T10:36:14.410717Z",
     "start_time": "2019-11-13T10:36:14.404711Z"
    }
   },
   "source": [
    "### What will be the output of the following Python expression if x=56.236?\n",
    "\n",
    "print(\"%.2f\"%x)<br><br>\n",
    "a) 56.00<br>\n",
    "b) 56.24<br>\n",
    "c) 56.23<br>\n",
    "d) 0056.236"
   ]
  },
  {
   "cell_type": "code",
   "execution_count": null,
   "metadata": {
    "ExecuteTime": {
     "end_time": "2019-11-13T10:36:14.410717Z",
     "start_time": "2019-11-13T10:36:14.404711Z"
    }
   },
   "outputs": [],
   "source": [
    "11. What will be the output of the following Python code?\n",
    "\n",
    "i = 1\n",
    "while True:\n",
    "    if i%0O7 == 0:\n",
    "        break\n",
    "    print(i)\n",
    "    i += 1\n",
    "    \n",
    "a) 1 2 3 4 5 6\n",
    "b) 1 2 3 4 5 6 7\n",
    "c) error\n",
    "d) none of the mentioned"
   ]
  },
  {
   "cell_type": "code",
   "execution_count": null,
   "metadata": {
    "ExecuteTime": {
     "end_time": "2019-11-13T10:36:14.410717Z",
     "start_time": "2019-11-13T10:36:14.404711Z"
    }
   },
   "outputs": [],
   "source": [
    "12. x = \"abcdef\"\n",
    "i = \"a\"\n",
    "while i in x:\n",
    "    print('i', end = \" \")\n",
    "    \n",
    "a) no output\n",
    "b) i i i i i i …\n",
    "c) a a a a a a …\n",
    "d) a b c d e f"
   ]
  },
  {
   "cell_type": "code",
   "execution_count": null,
   "metadata": {
    "ExecuteTime": {
     "end_time": "2019-11-13T10:36:14.410717Z",
     "start_time": "2019-11-13T10:36:14.404711Z"
    }
   },
   "outputs": [],
   "source": [
    "13. What will be the output of the following Python code?\n",
    "\n",
    "x = 'abcd'\n",
    "for i in x:\n",
    "    print(i.upper())\n",
    "    \n",
    "a) a b c d\n",
    "b) A B C D\n",
    "c) a B C D\n",
    "d) error"
   ]
  },
  {
   "cell_type": "code",
   "execution_count": null,
   "metadata": {
    "ExecuteTime": {
     "end_time": "2019-11-13T10:36:14.410717Z",
     "start_time": "2019-11-13T10:36:14.404711Z"
    }
   },
   "outputs": [],
   "source": [
    "14. What will be the output of the following Python code?\n",
    "\n",
    "x = 123\n",
    "for i in x:\n",
    "    print(i)\n",
    "    \n",
    "a) 1 2 3\n",
    "b) 123\n",
    "c) error\n",
    "d) none of the mentioned"
   ]
  },
  {
   "cell_type": "code",
   "execution_count": null,
   "metadata": {
    "ExecuteTime": {
     "end_time": "2019-11-13T10:36:14.410717Z",
     "start_time": "2019-11-13T10:36:14.404711Z"
    }
   },
   "outputs": [],
   "source": [
    "15.What will be the output of the following Python code snippet?\n",
    "\n",
    "x = 2\n",
    "for i in range(x):\n",
    "    x -= 2\n",
    "    print (x)\n",
    "    \n",
    "a) 0 1 2 3 4 …\n",
    "b) 0 -2\n",
    "c) 0\n",
    "d) error "
   ]
  },
  {
   "cell_type": "code",
   "execution_count": null,
   "metadata": {
    "ExecuteTime": {
     "end_time": "2019-11-13T10:36:14.410717Z",
     "start_time": "2019-11-13T10:36:14.404711Z"
    }
   },
   "outputs": [],
   "source": [
    "16. What will be the output of the following Python code?\n",
    "\n",
    "string = \"my name is x\"\n",
    "for i in string:\n",
    "    print (i, end=\", \")\n",
    "\n",
    "a) m, y, , n, a, m, e, , i, s, , x,\n",
    "b) m, y, , n, a, m, e, , i, s, , x\n",
    "c) my, name, is, x,\n",
    "d) error"
   ]
  },
  {
   "cell_type": "markdown",
   "metadata": {
    "ExecuteTime": {
     "end_time": "2019-11-13T10:36:14.410717Z",
     "start_time": "2019-11-13T10:36:14.404711Z"
    }
   },
   "source": [
    "17. What arithmetic operators cannot be used with strings?\n",
    "a) +\n",
    "b) *\n",
    "c) –\n",
    "d) All of the mentioned"
   ]
  },
  {
   "cell_type": "markdown",
   "metadata": {
    "ExecuteTime": {
     "end_time": "2019-11-13T10:36:14.410717Z",
     "start_time": "2019-11-13T10:36:14.404711Z"
    }
   },
   "source": [
    "18.What will be the output of the “hello” +1+2+3?\n",
    "a) hello123\n",
    "b) hello\n",
    "c) Error\n",
    "d) hello6"
   ]
  },
  {
   "cell_type": "markdown",
   "metadata": {
    "ExecuteTime": {
     "end_time": "2019-11-13T10:36:14.410717Z",
     "start_time": "2019-11-13T10:36:14.404711Z"
    }
   },
   "source": [
    "19.What will be the output of the following Python code?\n",
    "\n",
    "print(\"xyyzxyzxzxyy\".count('yy'))\n",
    "a) 2\n",
    "b) 0\n",
    "c) error\n",
    "d) none of the mentioned"
   ]
  },
  {
   "cell_type": "markdown",
   "metadata": {
    "ExecuteTime": {
     "end_time": "2019-11-13T10:36:14.410717Z",
     "start_time": "2019-11-13T10:36:14.404711Z"
    }
   },
   "source": [
    "20.What will be the output of the following Python code?\n",
    "\n",
    "print(\"Hello {1} and {0}\".format('bin', 'foo'))\n",
    "\n",
    "a) Hello foo and bin\n",
    "b) Hello bin and foo\n",
    "c) Error\n",
    "d) None of the mentioned"
   ]
  },
  {
   "cell_type": "markdown",
   "metadata": {
    "ExecuteTime": {
     "end_time": "2019-11-13T10:36:14.410717Z",
     "start_time": "2019-11-13T10:36:14.404711Z"
    }
   },
   "source": [
    "21.What will be the output of the following Python code snippet?\n",
    "\n",
    "print('The sum of {0:b} and {1:x} is {2:o}'.format(2, 10, 12))\n",
    "\n",
    "a) The sum of 2 and 10 is 12\n",
    "b) The sum of 10 and a is 14\n",
    "c) The sum of 10 and a is c\n",
    "d) Error"
   ]
  },
  {
   "cell_type": "markdown",
   "metadata": {
    "ExecuteTime": {
     "end_time": "2019-11-13T10:36:14.410717Z",
     "start_time": "2019-11-13T10:36:14.404711Z"
    }
   },
   "source": [
    "22.What will be the output of the following Python code snippet?\n",
    "\n",
    "print('abcdef12'.replace('cd', '12'))\n",
    "a) ab12ef12\n",
    "b) abcdef12\n",
    "c) ab12efcd\n",
    "d) none of the mentioned"
   ]
  },
  {
   "cell_type": "markdown",
   "metadata": {
    "ExecuteTime": {
     "end_time": "2019-11-13T10:36:14.410717Z",
     "start_time": "2019-11-13T10:36:14.404711Z"
    }
   },
   "source": [
    "23.What will be the output of the following Python code snippet?\n",
    "\n",
    "print('ab cd-ef'.title())\n",
    "a) Ab cd-ef\n",
    "b) Ab Cd-ef\n",
    "c) Ab Cd-Ef\n",
    "d) None of the mentioned"
   ]
  },
  {
   "cell_type": "markdown",
   "metadata": {
    "ExecuteTime": {
     "end_time": "2019-11-13T10:36:14.410717Z",
     "start_time": "2019-11-13T10:36:14.404711Z"
    }
   },
   "source": [
    "24.What is the output when we execute list(“hello”)?\n",
    "a) [‘h’, ‘e’, ‘l’, ‘l’, ‘o’]\n",
    "b) [‘hello’]\n",
    "c) [‘llo’]\n",
    "d) [‘olleh’]"
   ]
  },
  {
   "cell_type": "code",
   "execution_count": null,
   "metadata": {
    "ExecuteTime": {
     "end_time": "2019-11-13T10:36:14.410717Z",
     "start_time": "2019-11-13T10:36:14.404711Z"
    }
   },
   "outputs": [],
   "source": [
    "25. To add a new element to a list we use which command?\n",
    "a) list1.add(5)\n",
    "b) list1.append(5)\n",
    "c) list1.addLast(5)\n",
    "d) list1.addEnd(5)"
   ]
  },
  {
   "cell_type": "code",
   "execution_count": null,
   "metadata": {
    "ExecuteTime": {
     "end_time": "2019-11-13T10:36:14.410717Z",
     "start_time": "2019-11-13T10:36:14.404711Z"
    }
   },
   "outputs": [],
   "source": [
    "26. Suppose listExample is [3, 4, 5, 20, 5, 25, 1, 3], what is list1 after listExample.pop(1)?\n",
    "a) [3, 4, 5, 20, 5, 25, 1, 3]\n",
    "b) [1, 3, 3, 4, 5, 5, 20, 25]\n",
    "c) [3, 5, 20, 5, 25, 1, 3]\n",
    "d) [1, 3, 4, 5, 20, 5, 25]"
   ]
  },
  {
   "cell_type": "code",
   "execution_count": null,
   "metadata": {
    "ExecuteTime": {
     "end_time": "2019-11-13T10:36:14.410717Z",
     "start_time": "2019-11-13T10:36:14.404711Z"
    }
   },
   "outputs": [],
   "source": [
    "27.numbers = [1, 2, 3, 4]\n",
    " \n",
    "numbers.append([5,6,7,8])\n",
    "print(len(numbers))\n",
    "\n",
    "a) 4\n",
    "b) 5\n",
    "c) 8\n",
    "d) 12"
   ]
  },
  {
   "cell_type": "code",
   "execution_count": null,
   "metadata": {
    "ExecuteTime": {
     "end_time": "2019-11-13T10:36:14.410717Z",
     "start_time": "2019-11-13T10:36:14.404711Z"
    }
   },
   "outputs": [],
   "source": [
    "28.What will be the output of the following Python code?\n",
    "\n",
    "data = [[[1, 2], [3, 4]], [[5, 6], [7, 8]]]\n",
    "print(data[1][0][0])\n",
    "\n",
    "a) 1\n",
    "b) 2\n",
    "c) 4\n",
    "d) 5"
   ]
  },
  {
   "cell_type": "code",
   "execution_count": null,
   "metadata": {
    "ExecuteTime": {
     "end_time": "2019-11-13T10:36:14.410717Z",
     "start_time": "2019-11-13T10:36:14.404711Z"
    }
   },
   "outputs": [],
   "source": [
    "29.What will be the output of the following Python code?\n",
    "\n",
    "lst=[3,4,6,1,2]\n",
    "lst[1:2]=[7,8]\n",
    "print(lst)\n",
    "\n",
    "a) [3, 7, 8, 6, 1, 2]\n",
    "b) Syntax error\n",
    "c) [3,[7,8],6,1,2]\n",
    "d) [3,4,6,7,8]"
   ]
  },
  {
   "cell_type": "code",
   "execution_count": null,
   "metadata": {
    "ExecuteTime": {
     "end_time": "2019-11-13T10:36:14.410717Z",
     "start_time": "2019-11-13T10:36:14.404711Z"
    }
   },
   "outputs": [],
   "source": [
    "30.What will be the output of the following Python code?\n",
    "\n",
    "word1=\"Apple\"\n",
    "word2=\"Apple\"\n",
    "list1=[1,2,3]\n",
    "list2=[1,2,3]\n",
    "print(word1 is word2)\n",
    "print(list1 is list2)\n",
    "\n",
    "a)\n",
    "True\n",
    "True\n",
    "b)\n",
    "False\n",
    "True\n",
    "c)\n",
    "False\n",
    "False\n",
    "d)\n",
    "True\n",
    "False\n"
   ]
  },
  {
   "cell_type": "code",
   "execution_count": null,
   "metadata": {
    "ExecuteTime": {
     "end_time": "2019-11-13T10:36:14.410717Z",
     "start_time": "2019-11-13T10:36:14.404711Z"
    }
   },
   "outputs": [],
   "source": [
    "31. Which of the following matrices will throw an error in Python?\n",
    "\n",
    "a) A = [[1, 2, 3],\n",
    "        [4, 5, 6],\n",
    "        [7, 8, 9]]\n",
    "b) B = [[3, 3, 3]\n",
    "        [4, 4, 4]\n",
    "        [5, 5, 5]]\n",
    "c) C = [(1, 2, 4),\n",
    "        (5, 6, 7),\n",
    "        (8, 9, 10)]\n",
    "d) D = [2, 3, 4,\n",
    "        3, 3, 3,\n",
    "        4, 5, 6]"
   ]
  },
  {
   "cell_type": "code",
   "execution_count": null,
   "metadata": {
    "ExecuteTime": {
     "end_time": "2019-11-13T10:36:14.410717Z",
     "start_time": "2019-11-13T10:36:14.404711Z"
    }
   },
   "outputs": [],
   "source": [
    "32.Suppose t = (1, 2, 4, 3), which of the following is incorrect?\n",
    "a) print(t[3])\n",
    "b) t[3] = 45\n",
    "c) print(max(t))\n",
    "d) print(len(t))"
   ]
  },
  {
   "cell_type": "code",
   "execution_count": null,
   "metadata": {
    "ExecuteTime": {
     "end_time": "2019-11-13T10:36:14.410717Z",
     "start_time": "2019-11-13T10:36:14.404711Z"
    }
   },
   "outputs": [],
   "source": [
    "33.Is the following Python code valid?\n",
    "\n",
    "a=(1,2,3,4)\n",
    "del a\n",
    "\n",
    "a) No because tuple is immutable\n",
    "b) Yes, first element in the tuple is deleted\n",
    "c) Yes, the entire tuple is deleted\n",
    "d) No, invalid syntax for del method"
   ]
  },
  {
   "cell_type": "code",
   "execution_count": null,
   "metadata": {
    "ExecuteTime": {
     "end_time": "2019-11-13T10:36:14.410717Z",
     "start_time": "2019-11-13T10:36:14.404711Z"
    }
   },
   "outputs": [],
   "source": [
    "34.What will be the output of the following Python code?\n",
    "\n",
    "a,b=6,7\n",
    "a,b=b,a\n",
    "a,b\n",
    "\n",
    "a) (6,7)\n",
    "b) Invalid syntax\n",
    "c) (7,6)\n",
    "d) Nothing is printed"
   ]
  },
  {
   "cell_type": "code",
   "execution_count": null,
   "metadata": {
    "ExecuteTime": {
     "end_time": "2019-11-13T10:36:14.410717Z",
     "start_time": "2019-11-13T10:36:14.404711Z"
    }
   },
   "outputs": [],
   "source": [
    "35.If a={5,6,7,8}, which of the following statements is false?\n",
    "a) print(len(a))\n",
    "b) print(min(a))\n",
    "c) a.remove(5)\n",
    "d) a[2]=45"
   ]
  },
  {
   "cell_type": "code",
   "execution_count": null,
   "metadata": {
    "ExecuteTime": {
     "end_time": "2019-11-13T10:36:14.410717Z",
     "start_time": "2019-11-13T10:36:14.404711Z"
    }
   },
   "outputs": [],
   "source": [
    "36.What will be the output of the following Python code?\n",
    "\n",
    "a={3,4,5}\n",
    "a.update([1,2,3])\n",
    "a\n",
    "\n",
    "a) Error, no method called update for set data type\n",
    "b) {1, 2, 3, 4, 5}\n",
    "c) Error, list can’t be added to set\n",
    "d) Error, duplicate item present in list"
   ]
  },
  {
   "cell_type": "code",
   "execution_count": null,
   "metadata": {
    "ExecuteTime": {
     "end_time": "2019-11-13T10:36:14.410717Z",
     "start_time": "2019-11-13T10:36:14.404711Z"
    }
   },
   "outputs": [],
   "source": [
    "37.What will be the output of the following Python code snippet?\n",
    "\n",
    "d = {\"john\":40, \"peter\":45}\n",
    "print(list(d.keys()))\n",
    "\n",
    "a) [“john”, “peter”]\n",
    "b) [“john”:40, “peter”:45]\n",
    "c) (“john”, “peter”)\n",
    "d) (“john”:40, “peter”:45)"
   ]
  },
  {
   "cell_type": "code",
   "execution_count": null,
   "metadata": {
    "ExecuteTime": {
     "end_time": "2019-11-13T10:36:14.410717Z",
     "start_time": "2019-11-13T10:36:14.404711Z"
    }
   },
   "outputs": [],
   "source": [
    "38.What will be the output of the following Python code?\n",
    "\n",
    "a={1:\"A\",2:\"B\",3:\"C\"}\n",
    "b={4:\"D\",5:\"E\"}\n",
    "a.update(b)\n",
    "print(a)\n",
    "\n",
    "a) {1: ‘A’, 2: ‘B’, 3: ‘C’}\n",
    "b) Method update() doesn’t exist for dictionaries\n",
    "c) {1: ‘A’, 2: ‘B’, 3: ‘C’, 4: ‘D’, 5: ‘E’}\n",
    "d) {4: ‘D’, 5: ‘E’}"
   ]
  },
  {
   "cell_type": "code",
   "execution_count": null,
   "metadata": {
    "ExecuteTime": {
     "end_time": "2019-11-13T10:36:14.410717Z",
     "start_time": "2019-11-13T10:36:14.404711Z"
    }
   },
   "outputs": [],
   "source": [
    "39.What will be the output of the following Python code snippet?\n",
    "\n",
    "a={}\n",
    "a['a']=1\n",
    "a['b']=[2,3,4]\n",
    "print(a)\n",
    "\n",
    "a) Exception is thrown\n",
    "b) {‘b’: [2], ‘a’: 1}\n",
    "c) {‘b’: [2], ‘a’: [3]}\n",
    "d) {‘b’: [2, 3, 4], ‘a’: 1}"
   ]
  },
  {
   "cell_type": "code",
   "execution_count": null,
   "metadata": {
    "ExecuteTime": {
     "end_time": "2019-11-13T10:36:14.410717Z",
     "start_time": "2019-11-13T10:36:14.404711Z"
    }
   },
   "outputs": [],
   "source": [
    "40.What will be the output of the following Python code snippet?\n",
    "\n",
    "a=[1, 4, 3, 5, 2]\n",
    "b=[3, 1, 5, 2, 4]\n",
    "a==b\n",
    "set(a)==set(b)\n",
    "\n",
    "a) True\n",
    "   False\n",
    "    \n",
    "b) False\n",
    "   False\n",
    "    \n",
    "c) False\n",
    "   True\n",
    "    \n",
    "d) True\n",
    "   True"
   ]
  },
  {
   "cell_type": "code",
   "execution_count": null,
   "metadata": {
    "ExecuteTime": {
     "end_time": "2019-11-13T10:36:14.410717Z",
     "start_time": "2019-11-13T10:36:14.404711Z"
    }
   },
   "outputs": [],
   "source": []
  },
  {
   "cell_type": "code",
   "execution_count": null,
   "metadata": {
    "ExecuteTime": {
     "end_time": "2019-11-13T10:36:14.410717Z",
     "start_time": "2019-11-13T10:36:14.404711Z"
    }
   },
   "outputs": [],
   "source": []
  },
  {
   "cell_type": "code",
   "execution_count": null,
   "metadata": {
    "ExecuteTime": {
     "end_time": "2019-11-13T10:36:14.410717Z",
     "start_time": "2019-11-13T10:36:14.404711Z"
    }
   },
   "outputs": [],
   "source": []
  },
  {
   "cell_type": "code",
   "execution_count": null,
   "metadata": {
    "ExecuteTime": {
     "end_time": "2019-11-13T10:36:14.410717Z",
     "start_time": "2019-11-13T10:36:14.404711Z"
    }
   },
   "outputs": [],
   "source": []
  },
  {
   "cell_type": "code",
   "execution_count": null,
   "metadata": {
    "ExecuteTime": {
     "end_time": "2019-11-13T10:36:14.410717Z",
     "start_time": "2019-11-13T10:36:14.404711Z"
    }
   },
   "outputs": [],
   "source": []
  },
  {
   "cell_type": "code",
   "execution_count": null,
   "metadata": {
    "ExecuteTime": {
     "end_time": "2019-11-13T10:36:14.410717Z",
     "start_time": "2019-11-13T10:36:14.404711Z"
    }
   },
   "outputs": [],
   "source": []
  },
  {
   "cell_type": "code",
   "execution_count": null,
   "metadata": {
    "ExecuteTime": {
     "end_time": "2019-11-13T10:36:14.410717Z",
     "start_time": "2019-11-13T10:36:14.404711Z"
    }
   },
   "outputs": [],
   "source": []
  },
  {
   "cell_type": "code",
   "execution_count": null,
   "metadata": {
    "ExecuteTime": {
     "end_time": "2019-11-13T10:36:14.410717Z",
     "start_time": "2019-11-13T10:36:14.404711Z"
    }
   },
   "outputs": [],
   "source": []
  },
  {
   "cell_type": "code",
   "execution_count": null,
   "metadata": {
    "ExecuteTime": {
     "end_time": "2019-11-13T10:36:14.410717Z",
     "start_time": "2019-11-13T10:36:14.404711Z"
    }
   },
   "outputs": [],
   "source": []
  },
  {
   "cell_type": "code",
   "execution_count": null,
   "metadata": {
    "ExecuteTime": {
     "end_time": "2019-11-13T10:36:14.410717Z",
     "start_time": "2019-11-13T10:36:14.404711Z"
    }
   },
   "outputs": [],
   "source": []
  }
 ],
 "metadata": {
  "kernelspec": {
   "display_name": "Python 3",
   "language": "python",
   "name": "python3"
  },
  "language_info": {
   "codemirror_mode": {
    "name": "ipython",
    "version": 3
   },
   "file_extension": ".py",
   "mimetype": "text/x-python",
   "name": "python",
   "nbconvert_exporter": "python",
   "pygments_lexer": "ipython3",
   "version": "3.7.3"
  },
  "nbTranslate": {
   "displayLangs": [
    "*"
   ],
   "hotkey": "alt-t",
   "langInMainMenu": true,
   "sourceLang": "en",
   "targetLang": "fr",
   "useGoogleTranslate": true
  },
  "toc": {
   "base_numbering": 1,
   "nav_menu": {},
   "number_sections": true,
   "sideBar": true,
   "skip_h1_title": false,
   "title_cell": "Table of Contents",
   "title_sidebar": "Contents",
   "toc_cell": false,
   "toc_position": {},
   "toc_section_display": true,
   "toc_window_display": true
  },
  "varInspector": {
   "cols": {
    "lenName": 16,
    "lenType": 16,
    "lenVar": 40
   },
   "kernels_config": {
    "python": {
     "delete_cmd_postfix": "",
     "delete_cmd_prefix": "del ",
     "library": "var_list.py",
     "varRefreshCmd": "print(var_dic_list())"
    },
    "r": {
     "delete_cmd_postfix": ") ",
     "delete_cmd_prefix": "rm(",
     "library": "var_list.r",
     "varRefreshCmd": "cat(var_dic_list()) "
    }
   },
   "types_to_exclude": [
    "module",
    "function",
    "builtin_function_or_method",
    "instance",
    "_Feature"
   ],
   "window_display": false
  }
 },
 "nbformat": 4,
 "nbformat_minor": 2
}
